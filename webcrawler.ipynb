{
 "cells": [
  {
   "cell_type": "markdown",
   "metadata": {},
   "source": [
    "## Get the list of aboard name"
   ]
  },
  {
   "cell_type": "code",
   "execution_count": 2,
   "metadata": {},
   "outputs": [],
   "source": [
    "import requests\n",
    "from lxml import etree"
   ]
  },
  {
   "cell_type": "code",
   "execution_count": null,
   "metadata": {
    "collapsed": true
   },
   "outputs": [],
   "source": [
    "aboard_list = []"
   ]
  },
  {
   "cell_type": "code",
   "execution_count": null,
   "metadata": {},
   "outputs": [],
   "source": [
    "for i in range(10):\n",
    "    url = 'http://m.newsmth.net/section/'+str(i)\n",
    "    r = requests.get(url)\n",
    "    content = r.content\n",
    "    tree = etree.HTML(content)\n",
    "    for j in tree.xpath('//a/@href'):\n",
    "        if 'board' in j:\n",
    "            aboard_list.append(j)"
   ]
  },
  {
   "cell_type": "code",
   "execution_count": null,
   "metadata": {},
   "outputs": [],
   "source": [
    "len(aboard_list)"
   ]
  },
  {
   "cell_type": "markdown",
   "metadata": {},
   "source": [
    "## How to get the article's URL"
   ]
  },
  {
   "cell_type": "code",
   "execution_count": null,
   "metadata": {},
   "outputs": [],
   "source": [
    "article_list = []\n",
    "for board in aboard_list:\n",
    "    r = requests.get('http://m.newsmth.net'+board)\n",
    "    content = r.content\n",
    "    tree = etree.HTML(content)\n",
    "    total_pages = int(tree.xpath('//a[@class=\"plant\"]/text()')[0].split('/')[1])\n",
    "    for num in range(1,total_pages+1):\n",
    "        board_url = 'http://m.newsmth.net'+board+'?p='+str(i)\n",
    "        r = requests.get(board_url)\n",
    "        content = r.content\n",
    "        tree = etree.HTML(content)\n",
    "        for j in tree.xpath('//a/@href'):\n",
    "            if 'article' in j:\n",
    "                article_list.append(j)"
   ]
  },
  {
   "cell_type": "code",
   "execution_count": null,
   "metadata": {},
   "outputs": [],
   "source": [
    "len(article_list)"
   ]
  },
  {
   "cell_type": "code",
   "execution_count": null,
   "metadata": {
    "collapsed": true
   },
   "outputs": [],
   "source": [
    "article_list = [ 'http://m.newsmth.net'+i for i in article_list]"
   ]
  },
  {
   "cell_type": "markdown",
   "metadata": {},
   "source": [
    "## Get title of every article"
   ]
  },
  {
   "cell_type": "code",
   "execution_count": 3,
   "metadata": {},
   "outputs": [
    {
     "data": {
      "text/plain": [
       "'两个动车换乘时间38分钟，安全吗？'"
      ]
     },
     "execution_count": 3,
     "metadata": {},
     "output_type": "execute_result"
    }
   ],
   "source": [
    "article_url = 'http://m.newsmth.net/article/CouponsLife/3363108'\n",
    "r = requests.get(article_url)\n",
    "content = r.content\n",
    "tree = etree.HTML(content)\n",
    "tree.xpath('//title/text()')[0]"
   ]
  },
  {
   "cell_type": "code",
   "execution_count": null,
   "metadata": {
    "collapsed": true
   },
   "outputs": [],
   "source": [
    "title_list = []\n",
    "for article_url in article_list:\n",
    "    r = requests.get(article_url)\n",
    "    content = r.content\n",
    "    tree = etree.HTML(content)\n",
    "    title_list.append(tree.xpath('//title/text()')[0].strip()) "
   ]
  }
 ],
 "metadata": {
  "kernelspec": {
   "display_name": "Python 3",
   "language": "python",
   "name": "python3"
  },
  "language_info": {
   "codemirror_mode": {
    "name": "ipython",
    "version": 3
   },
   "file_extension": ".py",
   "mimetype": "text/x-python",
   "name": "python",
   "nbconvert_exporter": "python",
   "pygments_lexer": "ipython3",
   "version": "3.6.1"
  }
 },
 "nbformat": 4,
 "nbformat_minor": 2
}
